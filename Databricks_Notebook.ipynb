{
 "cells": [
  {
   "cell_type": "code",
   "execution_count": 0,
   "metadata": {
    "application/vnd.databricks.v1+cell": {
     "cellMetadata": {
      "byteLimit": 2048000,
      "rowLimit": 10000
     },
     "inputWidgets": {},
     "nuid": "22b4ba98-983b-4713-b3e6-7864f699ac4f",
     "showTitle": false,
     "tableResultSettingsMap": {},
     "title": ""
    }
   },
   "outputs": [
    {
     "output_type": "display_data",
     "data": {
      "text/html": [
       "<style scoped>\n",
       "  .table-result-container {\n",
       "    max-height: 300px;\n",
       "    overflow: auto;\n",
       "  }\n",
       "  table, th, td {\n",
       "    border: 1px solid black;\n",
       "    border-collapse: collapse;\n",
       "  }\n",
       "  th, td {\n",
       "    padding: 5px;\n",
       "  }\n",
       "  th {\n",
       "    text-align: left;\n",
       "  }\n",
       "</style><div class='table-result-container'><table class='table-result'><thead style='background-color: white'><tr><th>employee_id</th><th>first_name</th><th>last_name</th><th>age</th><th>gender</th><th>department</th><th>salary</th></tr></thead><tbody><tr><td>1</td><td>John</td><td>Doe</td><td>35</td><td>Male</td><td>Marketing</td><td>50000</td></tr><tr><td>2</td><td>Jane</td><td>Smith</td><td>28</td><td>Female</td><td>Sales</td><td>60000</td></tr><tr><td>3</td><td>Michael</td><td>Johnson</td><td>42</td><td>Male</td><td>Finance</td><td>70000</td></tr><tr><td>4</td><td>Emily</td><td>Williams</td><td>31</td><td>Female</td><td>HR</td><td>55000</td></tr><tr><td>5</td><td>James</td><td>Brown</td><td>37</td><td>Male</td><td>Operations</td><td>65000</td></tr><tr><td>6</td><td>Emma</td><td>Taylor</td><td>29</td><td>Female</td><td>IT</td><td>80000</td></tr><tr><td>7</td><td>William</td><td>Clark</td><td>33</td><td>Male</td><td>Marketing</td><td>52000</td></tr><tr><td>8</td><td>Olivia</td><td>Miller</td><td>26</td><td>Female</td><td>Sales</td><td>62000</td></tr><tr><td>9</td><td>Liam</td><td>Anderson</td><td>39</td><td>Male</td><td>Finance</td><td>72000</td></tr><tr><td>10</td><td>Sophia</td><td>Lewis</td><td>32</td><td>Female</td><td>HR</td><td>58000</td></tr><tr><td>11</td><td>Benjamin</td><td>Thomas</td><td>34</td><td>Male</td><td>Operations</td><td>68000</td></tr><tr><td>12</td><td>Ava</td><td>Hall</td><td>27</td><td>Female</td><td>IT</td><td>85000</td></tr><tr><td>13</td><td>Alexander</td><td>White</td><td>36</td><td>Male</td><td>Marketing</td><td>53000</td></tr><tr><td>14</td><td>Charlotte</td><td>Jackson</td><td>30</td><td>Female</td><td>Sales</td><td>63000</td></tr><tr><td>15</td><td>Ethan</td><td>Harris</td><td>31</td><td>Male</td><td>Finance</td><td>73000</td></tr><tr><td>16</td><td>Mia</td><td>Martin</td><td>29</td><td>Female</td><td>HR</td><td>60000</td></tr><tr><td>17</td><td>David</td><td>Anderson</td><td>35</td><td>Male</td><td>Operations</td><td>70000</td></tr><tr><td>18</td><td>Sofia</td><td>Moore</td><td>28</td><td>Female</td><td>IT</td><td>90000</td></tr><tr><td>19</td><td>Joseph</td><td>King</td><td>37</td><td>Male</td><td>Marketing</td><td>54000</td></tr><tr><td>20</td><td>Amelia</td><td>Cooper</td><td>29</td><td>Female</td><td>Sales</td><td>65000</td></tr><tr><td>21</td><td>Lucas</td><td>Hill</td><td>33</td><td>Male</td><td>Finance</td><td>75000</td></tr><tr><td>22</td><td>Grace</td><td>Walker</td><td>26</td><td>Female</td><td>HR</td><td>62000</td></tr><tr><td>23</td><td>Aiden</td><td>Green</td><td>38</td><td>Male</td><td>Operations</td><td>72000</td></tr><tr><td>24</td><td>Harper</td><td>Young</td><td>31</td><td>Female</td><td>IT</td><td>95000</td></tr><tr><td>25</td><td>Christopher</td><td>Allen</td><td>34</td><td>Male</td><td>Marketing</td><td>55000</td></tr><tr><td>26</td><td>Lily</td><td>Wright</td><td>27</td><td>Female</td><td>Sales</td><td>67000</td></tr><tr><td>27</td><td>Daniel</td><td>Robinson</td><td>36</td><td>Male</td><td>Finance</td><td>77000</td></tr><tr><td>28</td><td>Sofia</td><td>Hall</td><td>30</td><td>Female</td><td>HR</td><td>64000</td></tr><tr><td>29</td><td>Logan</td><td>Turner</td><td>32</td><td>Male</td><td>Operations</td><td>74000</td></tr><tr><td>30</td><td>Ella</td><td>Lee</td><td>29</td><td>Female</td><td>IT</td><td>98000</td></tr><tr><td>31</td><td>William</td><td>Parker</td><td>35</td><td>Male</td><td>Marketing</td><td>56000</td></tr><tr><td>32</td><td>Avery</td><td>Carter</td><td>28</td><td>Female</td><td>Sales</td><td>68000</td></tr><tr><td>33</td><td>Lincoln</td><td>Gonzalez</td><td>34</td><td>Male</td><td>Finance</td><td>80000</td></tr><tr><td>34</td><td>Chloe</td><td>Harris</td><td>27</td><td>Female</td><td>HR</td><td>66000</td></tr><tr><td>35</td><td>Michael</td><td>Walker</td><td>36</td><td>Male</td><td>Operations</td><td>76000</td></tr><tr><td>36</td><td>Emily</td><td>Moore</td><td>31</td><td>Female</td><td>IT</td><td>102000</td></tr><tr><td>37</td><td>James</td><td>Phillips</td><td>33</td><td>Male</td><td>Marketing</td><td>58000</td></tr><tr><td>38</td><td>Olivia</td><td>Hall</td><td>26</td><td>Female</td><td>Sales</td><td>70000</td></tr><tr><td>39</td><td>Benjamin</td><td>Clark</td><td>38</td><td>Male</td><td>Finance</td><td>82000</td></tr><tr><td>40</td><td>Ava</td><td>Lopez</td><td>30</td><td>Female</td><td>HR</td><td>68000</td></tr><tr><td>41</td><td>Alexander</td><td>Turner</td><td>35</td><td>Male</td><td>Operations</td><td>78000</td></tr><tr><td>42</td><td>Sophia</td><td>Campbell</td><td>29</td><td>Female</td><td>IT</td><td>105000</td></tr><tr><td>43</td><td>Joseph</td><td>Roberts</td><td>32</td><td>Male</td><td>Marketing</td><td>60000</td></tr><tr><td>44</td><td>Mia</td><td>Hill</td><td>27</td><td>Female</td><td>Sales</td><td>72000</td></tr><tr><td>45</td><td>David</td><td>Ross</td><td>36</td><td>Male</td><td>Finance</td><td>85000</td></tr><tr><td>46</td><td>Lucy</td><td>Perez</td><td>31</td><td>Female</td><td>HR</td><td>70000</td></tr><tr><td>47</td><td>Logan</td><td>Cooper</td><td>33</td><td>Male</td><td>Operations</td><td>80000</td></tr><tr><td>48</td><td>Emma</td><td>Richardson</td><td>28</td><td>Female</td><td>IT</td><td>108000</td></tr><tr><td>49</td><td>Ethan</td><td>Phillips</td><td>34</td><td>Male</td><td>Marketing</td><td>62000</td></tr><tr><td>50</td><td>Charlotte</td><td>Smith</td><td>26</td><td>Female</td><td>Sales</td><td>75000</td></tr><tr><td>51</td><td>Noah</td><td>Kelly</td><td>37</td><td>Male</td><td>Finance</td><td>87000</td></tr><tr><td>52</td><td>Sophia</td><td>Reed</td><td>30</td><td>Female</td><td>HR</td><td>72000</td></tr><tr><td>53</td><td>Lucas</td><td>Cox</td><td>35</td><td>Male</td><td>Operations</td><td>82000</td></tr><tr><td>54</td><td>Avery</td><td>Collins</td><td>29</td><td>Female</td><td>IT</td><td>110000</td></tr><tr><td>55</td><td>William</td><td>Rivera</td><td>32</td><td>Male</td><td>Marketing</td><td>64000</td></tr><tr><td>56</td><td>Olivia</td><td>Hall</td><td>27</td><td>Female</td><td>Sales</td><td>77000</td></tr><tr><td>57</td><td>Mason</td><td>Morris</td><td>36</td><td>Male</td><td>Finance</td><td>90000</td></tr><tr><td>58</td><td>Ava</td><td>Gonzalez</td><td>31</td><td>Female</td><td>HR</td><td>75000</td></tr><tr><td>59</td><td>Aiden</td><td>Cook</td><td>33</td><td>Male</td><td>Operations</td><td>85000</td></tr><tr><td>60</td><td>Emily</td><td>Allen</td><td>28</td><td>Female</td><td>IT</td><td>112000</td></tr><tr><td>61</td><td>James</td><td>Hill</td><td>34</td><td>Male</td><td>Marketing</td><td>66000</td></tr><tr><td>62</td><td>Isabella</td><td>Turner</td><td>26</td><td>Female</td><td>Sales</td><td>79000</td></tr><tr><td>63</td><td>Ethan</td><td>Walker</td><td>37</td><td>Male</td><td>Finance</td><td>92000</td></tr><tr><td>64</td><td>Emily</td><td>Parker</td><td>31</td><td>Female</td><td>HR</td><td>78000</td></tr><tr><td>65</td><td>Liam</td><td>Smith</td><td>33</td><td>Male</td><td>Operations</td><td>88000</td></tr><tr><td>66</td><td>Abigail</td><td>Adams</td><td>29</td><td>Female</td><td>IT</td><td>115000</td></tr><tr><td>67</td><td>Lucas</td><td>Carter</td><td>35</td><td>Male</td><td>Marketing</td><td>68000</td></tr><tr><td>68</td><td>Charlotte</td><td>Reed</td><td>28</td><td>Female</td><td>Sales</td><td>81000</td></tr><tr><td>69</td><td>Benjamin</td><td>Cook</td><td>34</td><td>Male</td><td>Finance</td><td>95000</td></tr><tr><td>70</td><td>Ava</td><td>Baker</td><td>30</td><td>Female</td><td>HR</td><td>80000</td></tr><tr><td>71</td><td>William</td><td>Morris</td><td>37</td><td>Male</td><td>Operations</td><td>90000</td></tr><tr><td>72</td><td>Sophia</td><td>Young</td><td>31</td><td>Female</td><td>IT</td><td>118000</td></tr><tr><td>73</td><td>Mason</td><td>Turner</td><td>33</td><td>Male</td><td>Marketing</td><td>70000</td></tr><tr><td>74</td><td>Ava</td><td>Harris</td><td>26</td><td>Female</td><td>Sales</td><td>83000</td></tr><tr><td>75</td><td>Ethan</td><td>Collins</td><td>36</td><td>Male</td><td>Finance</td><td>98000</td></tr><tr><td>76</td><td>Olivia</td><td>Rivera</td><td>31</td><td>Female</td><td>HR</td><td>82000</td></tr><tr><td>77</td><td>Noah</td><td>Martinez</td><td>33</td><td>Male</td><td>Operations</td><td>92000</td></tr><tr><td>78</td><td>Sophia</td><td>Peterson</td><td>28</td><td>Female</td><td>IT</td><td>122000</td></tr><tr><td>79</td><td>Logan</td><td>Howard</td><td>34</td><td>Male</td><td>Marketing</td><td>72000</td></tr><tr><td>80</td><td>Ava</td><td>Perez</td><td>26</td><td>Female</td><td>Sales</td><td>86000</td></tr><tr><td>81</td><td>William</td><td>Adams</td><td>37</td><td>Male</td><td>Finance</td><td>105000</td></tr><tr><td>82</td><td>Emily</td><td>Turner</td><td>31</td><td>Female</td><td>HR</td><td>88000</td></tr><tr><td>83</td><td>Liam</td><td>Carter</td><td>33</td><td>Male</td><td>Operations</td><td>98000</td></tr><tr><td>84</td><td>Sophia</td><td>Harris</td><td>29</td><td>Female</td><td>IT</td><td>125000</td></tr><tr><td>85</td><td>Aiden</td><td>Parker</td><td>35</td><td>Male</td><td>Marketing</td><td>74000</td></tr><tr><td>86</td><td>Olivia</td><td>Ross</td><td>28</td><td>Female</td><td>Sales</td><td>89000</td></tr><tr><td>87</td><td>James</td><td>Evans</td><td>36</td><td>Male</td><td>Finance</td><td>108000</td></tr><tr><td>88</td><td>Sophia</td><td>Stewart</td><td>31</td><td>Female</td><td>HR</td><td>92000</td></tr><tr><td>89</td><td>Ethan</td><td>Phillips</td><td>33</td><td>Male</td><td>Operations</td><td>102000</td></tr><tr><td>90</td><td>Emily</td><td>Allen</td><td>29</td><td>Female</td><td>IT</td><td>128000</td></tr><tr><td>91</td><td>Liam</td><td>Kelly</td><td>37</td><td>Male</td><td>Marketing</td><td>76000</td></tr><tr><td>92</td><td>Abigail</td><td>Ward</td><td>28</td><td>Female</td><td>Sales</td><td>92000</td></tr><tr><td>93</td><td>Lucas</td><td>Rivera</td><td>36</td><td>Male</td><td>Finance</td><td>112000</td></tr><tr><td>94</td><td>Charlotte</td><td>Wilson</td><td>31</td><td>Female</td><td>HR</td><td>96000</td></tr><tr><td>95</td><td>Benjamin</td><td>Roberts</td><td>33</td><td>Male</td><td>Operations</td><td>108000</td></tr><tr><td>96</td><td>Ava</td><td>Cook</td><td>29</td><td>Female</td><td>IT</td><td>132000</td></tr><tr><td>97</td><td>William</td><td>Hill</td><td>35</td><td>Male</td><td>Marketing</td><td>78000</td></tr><tr><td>98</td><td>Olivia</td><td>Martinez</td><td>26</td><td>Female</td><td>Sales</td><td>95000</td></tr><tr><td>99</td><td>Mason</td><td>Reed</td><td>37</td><td>Male</td><td>Finance</td><td>115000</td></tr><tr><td>100</td><td>Ella</td><td>Brown</td><td>31</td><td>Female</td><td>HR</td><td>99000</td></tr></tbody></table></div>"
      ]
     },
     "metadata": {
      "application/vnd.databricks.v1+output": {
       "addedWidgets": {},
       "aggData": [],
       "aggError": "",
       "aggOverflow": false,
       "aggSchema": [],
       "aggSeriesLimitReached": false,
       "aggType": "",
       "arguments": {},
       "columnCustomDisplayInfos": {},
       "data": [
        [
         "1",
         "John",
         "Doe",
         "35",
         "Male",
         "Marketing",
         "50000"
        ],
        [
         "2",
         "Jane",
         "Smith",
         "28",
         "Female",
         "Sales",
         "60000"
        ],
        [
         "3",
         "Michael",
         "Johnson",
         "42",
         "Male",
         "Finance",
         "70000"
        ],
        [
         "4",
         "Emily",
         "Williams",
         "31",
         "Female",
         "HR",
         "55000"
        ],
        [
         "5",
         "James",
         "Brown",
         "37",
         "Male",
         "Operations",
         "65000"
        ],
        [
         "6",
         "Emma",
         "Taylor",
         "29",
         "Female",
         "IT",
         "80000"
        ],
        [
         "7",
         "William",
         "Clark",
         "33",
         "Male",
         "Marketing",
         "52000"
        ],
        [
         "8",
         "Olivia",
         "Miller",
         "26",
         "Female",
         "Sales",
         "62000"
        ],
        [
         "9",
         "Liam",
         "Anderson",
         "39",
         "Male",
         "Finance",
         "72000"
        ],
        [
         "10",
         "Sophia",
         "Lewis",
         "32",
         "Female",
         "HR",
         "58000"
        ],
        [
         "11",
         "Benjamin",
         "Thomas",
         "34",
         "Male",
         "Operations",
         "68000"
        ],
        [
         "12",
         "Ava",
         "Hall",
         "27",
         "Female",
         "IT",
         "85000"
        ],
        [
         "13",
         "Alexander",
         "White",
         "36",
         "Male",
         "Marketing",
         "53000"
        ],
        [
         "14",
         "Charlotte",
         "Jackson",
         "30",
         "Female",
         "Sales",
         "63000"
        ],
        [
         "15",
         "Ethan",
         "Harris",
         "31",
         "Male",
         "Finance",
         "73000"
        ],
        [
         "16",
         "Mia",
         "Martin",
         "29",
         "Female",
         "HR",
         "60000"
        ],
        [
         "17",
         "David",
         "Anderson",
         "35",
         "Male",
         "Operations",
         "70000"
        ],
        [
         "18",
         "Sofia",
         "Moore",
         "28",
         "Female",
         "IT",
         "90000"
        ],
        [
         "19",
         "Joseph",
         "King",
         "37",
         "Male",
         "Marketing",
         "54000"
        ],
        [
         "20",
         "Amelia",
         "Cooper",
         "29",
         "Female",
         "Sales",
         "65000"
        ],
        [
         "21",
         "Lucas",
         "Hill",
         "33",
         "Male",
         "Finance",
         "75000"
        ],
        [
         "22",
         "Grace",
         "Walker",
         "26",
         "Female",
         "HR",
         "62000"
        ],
        [
         "23",
         "Aiden",
         "Green",
         "38",
         "Male",
         "Operations",
         "72000"
        ],
        [
         "24",
         "Harper",
         "Young",
         "31",
         "Female",
         "IT",
         "95000"
        ],
        [
         "25",
         "Christopher",
         "Allen",
         "34",
         "Male",
         "Marketing",
         "55000"
        ],
        [
         "26",
         "Lily",
         "Wright",
         "27",
         "Female",
         "Sales",
         "67000"
        ],
        [
         "27",
         "Daniel",
         "Robinson",
         "36",
         "Male",
         "Finance",
         "77000"
        ],
        [
         "28",
         "Sofia",
         "Hall",
         "30",
         "Female",
         "HR",
         "64000"
        ],
        [
         "29",
         "Logan",
         "Turner",
         "32",
         "Male",
         "Operations",
         "74000"
        ],
        [
         "30",
         "Ella",
         "Lee",
         "29",
         "Female",
         "IT",
         "98000"
        ],
        [
         "31",
         "William",
         "Parker",
         "35",
         "Male",
         "Marketing",
         "56000"
        ],
        [
         "32",
         "Avery",
         "Carter",
         "28",
         "Female",
         "Sales",
         "68000"
        ],
        [
         "33",
         "Lincoln",
         "Gonzalez",
         "34",
         "Male",
         "Finance",
         "80000"
        ],
        [
         "34",
         "Chloe",
         "Harris",
         "27",
         "Female",
         "HR",
         "66000"
        ],
        [
         "35",
         "Michael",
         "Walker",
         "36",
         "Male",
         "Operations",
         "76000"
        ],
        [
         "36",
         "Emily",
         "Moore",
         "31",
         "Female",
         "IT",
         "102000"
        ],
        [
         "37",
         "James",
         "Phillips",
         "33",
         "Male",
         "Marketing",
         "58000"
        ],
        [
         "38",
         "Olivia",
         "Hall",
         "26",
         "Female",
         "Sales",
         "70000"
        ],
        [
         "39",
         "Benjamin",
         "Clark",
         "38",
         "Male",
         "Finance",
         "82000"
        ],
        [
         "40",
         "Ava",
         "Lopez",
         "30",
         "Female",
         "HR",
         "68000"
        ],
        [
         "41",
         "Alexander",
         "Turner",
         "35",
         "Male",
         "Operations",
         "78000"
        ],
        [
         "42",
         "Sophia",
         "Campbell",
         "29",
         "Female",
         "IT",
         "105000"
        ],
        [
         "43",
         "Joseph",
         "Roberts",
         "32",
         "Male",
         "Marketing",
         "60000"
        ],
        [
         "44",
         "Mia",
         "Hill",
         "27",
         "Female",
         "Sales",
         "72000"
        ],
        [
         "45",
         "David",
         "Ross",
         "36",
         "Male",
         "Finance",
         "85000"
        ],
        [
         "46",
         "Lucy",
         "Perez",
         "31",
         "Female",
         "HR",
         "70000"
        ],
        [
         "47",
         "Logan",
         "Cooper",
         "33",
         "Male",
         "Operations",
         "80000"
        ],
        [
         "48",
         "Emma",
         "Richardson",
         "28",
         "Female",
         "IT",
         "108000"
        ],
        [
         "49",
         "Ethan",
         "Phillips",
         "34",
         "Male",
         "Marketing",
         "62000"
        ],
        [
         "50",
         "Charlotte",
         "Smith",
         "26",
         "Female",
         "Sales",
         "75000"
        ],
        [
         "51",
         "Noah",
         "Kelly",
         "37",
         "Male",
         "Finance",
         "87000"
        ],
        [
         "52",
         "Sophia",
         "Reed",
         "30",
         "Female",
         "HR",
         "72000"
        ],
        [
         "53",
         "Lucas",
         "Cox",
         "35",
         "Male",
         "Operations",
         "82000"
        ],
        [
         "54",
         "Avery",
         "Collins",
         "29",
         "Female",
         "IT",
         "110000"
        ],
        [
         "55",
         "William",
         "Rivera",
         "32",
         "Male",
         "Marketing",
         "64000"
        ],
        [
         "56",
         "Olivia",
         "Hall",
         "27",
         "Female",
         "Sales",
         "77000"
        ],
        [
         "57",
         "Mason",
         "Morris",
         "36",
         "Male",
         "Finance",
         "90000"
        ],
        [
         "58",
         "Ava",
         "Gonzalez",
         "31",
         "Female",
         "HR",
         "75000"
        ],
        [
         "59",
         "Aiden",
         "Cook",
         "33",
         "Male",
         "Operations",
         "85000"
        ],
        [
         "60",
         "Emily",
         "Allen",
         "28",
         "Female",
         "IT",
         "112000"
        ],
        [
         "61",
         "James",
         "Hill",
         "34",
         "Male",
         "Marketing",
         "66000"
        ],
        [
         "62",
         "Isabella",
         "Turner",
         "26",
         "Female",
         "Sales",
         "79000"
        ],
        [
         "63",
         "Ethan",
         "Walker",
         "37",
         "Male",
         "Finance",
         "92000"
        ],
        [
         "64",
         "Emily",
         "Parker",
         "31",
         "Female",
         "HR",
         "78000"
        ],
        [
         "65",
         "Liam",
         "Smith",
         "33",
         "Male",
         "Operations",
         "88000"
        ],
        [
         "66",
         "Abigail",
         "Adams",
         "29",
         "Female",
         "IT",
         "115000"
        ],
        [
         "67",
         "Lucas",
         "Carter",
         "35",
         "Male",
         "Marketing",
         "68000"
        ],
        [
         "68",
         "Charlotte",
         "Reed",
         "28",
         "Female",
         "Sales",
         "81000"
        ],
        [
         "69",
         "Benjamin",
         "Cook",
         "34",
         "Male",
         "Finance",
         "95000"
        ],
        [
         "70",
         "Ava",
         "Baker",
         "30",
         "Female",
         "HR",
         "80000"
        ],
        [
         "71",
         "William",
         "Morris",
         "37",
         "Male",
         "Operations",
         "90000"
        ],
        [
         "72",
         "Sophia",
         "Young",
         "31",
         "Female",
         "IT",
         "118000"
        ],
        [
         "73",
         "Mason",
         "Turner",
         "33",
         "Male",
         "Marketing",
         "70000"
        ],
        [
         "74",
         "Ava",
         "Harris",
         "26",
         "Female",
         "Sales",
         "83000"
        ],
        [
         "75",
         "Ethan",
         "Collins",
         "36",
         "Male",
         "Finance",
         "98000"
        ],
        [
         "76",
         "Olivia",
         "Rivera",
         "31",
         "Female",
         "HR",
         "82000"
        ],
        [
         "77",
         "Noah",
         "Martinez",
         "33",
         "Male",
         "Operations",
         "92000"
        ],
        [
         "78",
         "Sophia",
         "Peterson",
         "28",
         "Female",
         "IT",
         "122000"
        ],
        [
         "79",
         "Logan",
         "Howard",
         "34",
         "Male",
         "Marketing",
         "72000"
        ],
        [
         "80",
         "Ava",
         "Perez",
         "26",
         "Female",
         "Sales",
         "86000"
        ],
        [
         "81",
         "William",
         "Adams",
         "37",
         "Male",
         "Finance",
         "105000"
        ],
        [
         "82",
         "Emily",
         "Turner",
         "31",
         "Female",
         "HR",
         "88000"
        ],
        [
         "83",
         "Liam",
         "Carter",
         "33",
         "Male",
         "Operations",
         "98000"
        ],
        [
         "84",
         "Sophia",
         "Harris",
         "29",
         "Female",
         "IT",
         "125000"
        ],
        [
         "85",
         "Aiden",
         "Parker",
         "35",
         "Male",
         "Marketing",
         "74000"
        ],
        [
         "86",
         "Olivia",
         "Ross",
         "28",
         "Female",
         "Sales",
         "89000"
        ],
        [
         "87",
         "James",
         "Evans",
         "36",
         "Male",
         "Finance",
         "108000"
        ],
        [
         "88",
         "Sophia",
         "Stewart",
         "31",
         "Female",
         "HR",
         "92000"
        ],
        [
         "89",
         "Ethan",
         "Phillips",
         "33",
         "Male",
         "Operations",
         "102000"
        ],
        [
         "90",
         "Emily",
         "Allen",
         "29",
         "Female",
         "IT",
         "128000"
        ],
        [
         "91",
         "Liam",
         "Kelly",
         "37",
         "Male",
         "Marketing",
         "76000"
        ],
        [
         "92",
         "Abigail",
         "Ward",
         "28",
         "Female",
         "Sales",
         "92000"
        ],
        [
         "93",
         "Lucas",
         "Rivera",
         "36",
         "Male",
         "Finance",
         "112000"
        ],
        [
         "94",
         "Charlotte",
         "Wilson",
         "31",
         "Female",
         "HR",
         "96000"
        ],
        [
         "95",
         "Benjamin",
         "Roberts",
         "33",
         "Male",
         "Operations",
         "108000"
        ],
        [
         "96",
         "Ava",
         "Cook",
         "29",
         "Female",
         "IT",
         "132000"
        ],
        [
         "97",
         "William",
         "Hill",
         "35",
         "Male",
         "Marketing",
         "78000"
        ],
        [
         "98",
         "Olivia",
         "Martinez",
         "26",
         "Female",
         "Sales",
         "95000"
        ],
        [
         "99",
         "Mason",
         "Reed",
         "37",
         "Male",
         "Finance",
         "115000"
        ],
        [
         "100",
         "Ella",
         "Brown",
         "31",
         "Female",
         "HR",
         "99000"
        ]
       ],
       "datasetInfos": [],
       "dbfsResultPath": null,
       "isJsonSchema": true,
       "metadata": {},
       "overflow": false,
       "plotOptions": {
        "customPlotOptions": {},
        "displayType": "table",
        "pivotAggregation": null,
        "pivotColumns": null,
        "xColumns": null,
        "yColumns": null
       },
       "removedWidgets": [],
       "schema": [
        {
         "metadata": "{}",
         "name": "employee_id",
         "type": "\"string\""
        },
        {
         "metadata": "{}",
         "name": "first_name",
         "type": "\"string\""
        },
        {
         "metadata": "{}",
         "name": "last_name",
         "type": "\"string\""
        },
        {
         "metadata": "{}",
         "name": "age",
         "type": "\"string\""
        },
        {
         "metadata": "{}",
         "name": "gender",
         "type": "\"string\""
        },
        {
         "metadata": "{}",
         "name": "department",
         "type": "\"string\""
        },
        {
         "metadata": "{}",
         "name": "salary",
         "type": "\"string\""
        }
       ],
       "type": "table"
      }
     },
     "output_type": "display_data"
    }
   ],
   "source": [
    "# Retrieve secrets from the secret scope\n",
    "aws_access_key = dbutils.secrets.get(scope=\"mySecretScope\", key=\"aws_access_key_id\")\n",
    "aws_secret_key = dbutils.secrets.get(scope=\"mySecretScope\", key=\"aws_secret_access_key\")\n",
    "\n",
    "# Set them in Spark configuration for S3 access\n",
    "spark.conf.set(\"fs.s3a.access.key\", aws_access_key)\n",
    "spark.conf.set(\"fs.s3a.secret.key\", aws_secret_key)\n",
    "\n",
    "# Now you can read from S3 using the s3a:// protocol\n",
    "file_path = \"s3a://databricks-workspace-stack-64e1f-bucket/unity-catalog/469520133719749/Employee_data.csv\"\n",
    "df_emp = spark.read.format(\"csv\").option(\"header\", \"true\").load(file_path)\n",
    "display(df_emp)\n"
   ]
  }
 ],
 "metadata": {
  "application/vnd.databricks.v1+notebook": {
   "computePreferences": null,
   "dashboards": [],
   "environmentMetadata": {
    "base_environment": "",
    "environment_version": "2"
   },
   "language": "python",
   "notebookMetadata": {
    "pythonIndentUnit": 4
   },
   "notebookName": "Notebook 4",
   "widgets": {}
  },
  "language_info": {
   "name": "python"
  }
 },
 "nbformat": 4,
 "nbformat_minor": 0
}