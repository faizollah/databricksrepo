{
 "cells": [
  {
   "cell_type": "code",
   "execution_count": 0,
   "metadata": {
    "application/vnd.databricks.v1+cell": {
     "cellMetadata": {
      "byteLimit": 2048000,
      "rowLimit": 10000
     },
     "inputWidgets": {},
     "nuid": "22b4ba98-983b-4713-b3e6-7864f699ac4f",
     "showTitle": false,
     "tableResultSettingsMap": {},
     "title": ""
    }
   },
   "outputs": [],
   "source": [
    "#This is the first cell\n",
    "# Retrieve secrets from the secret scope\n",
    "aws_access_key = dbutils.secrets.get(scope=\"mySecretScope\", key=\"aws_access_key_id\")\n",
    "aws_secret_key = dbutils.secrets.get(scope=\"mySecretScope\", key=\"aws_secret_access_key\")\n",
    "\n",
    "# Set them in Spark configuration for S3 access\n",
    "spark.conf.set(\"fs.s3a.access.key\", aws_access_key)\n",
    "spark.conf.set(\"fs.s3a.secret.key\", aws_secret_key)\n",
    "\n",
    "# Now you can read from S3 using the s3a:// protocol\n",
    "file_path = \"s3a://databricks-workspace-stack-64e1f-bucket/unity-catalog/469520133719749/Employee_data.csv\"\n",
    "df_emp = spark.read.format(\"csv\").option(\"header\", \"true\").load(file_path)\n",
    "display(df_emp)\n"
   ]
  }
 ],
 "metadata": {
  "application/vnd.databricks.v1+notebook": {
   "computePreferences": null,
   "dashboards": [],
   "environmentMetadata": {
    "base_environment": "",
    "environment_version": "2"
   },
   "language": "python",
   "notebookMetadata": {
    "pythonIndentUnit": 4
   },
   "notebookName": "Databricks_Notebook",
   "widgets": {}
  },
  "language_info": {
   "name": "python"
  }
 },
 "nbformat": 4,
 "nbformat_minor": 0
}
